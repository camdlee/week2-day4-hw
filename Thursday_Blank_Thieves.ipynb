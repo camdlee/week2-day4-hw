{
 "cells": [
  {
   "cell_type": "markdown",
   "metadata": {},
   "source": [
    "# Object-Oriented-Programming (OOP)"
   ]
  },
  {
   "cell_type": "markdown",
   "metadata": {},
   "source": [
    "## Tasks Today:\n",
    "\n",
    "   \n",
    "\n",
    "1) <b>Creating a Class (Initializing/Declaring)</b> <br>\n",
    "2) <b>Using a Class (Instantiating)</b> <br>\n",
    " &nbsp;&nbsp;&nbsp;&nbsp; a) Creating One Instance <br>\n",
    " &nbsp;&nbsp;&nbsp;&nbsp; b) Creating Multiple Instances <br>\n",
    " &nbsp;&nbsp;&nbsp;&nbsp; c) In-Class Exercise #1 - Create a Class 'Car' and instantiate three different makes of cars <br>\n",
    "3) <b>The \\__init\\__() Method</b> <br>\n",
    " &nbsp;&nbsp;&nbsp;&nbsp; a) The 'self' Attribute <br>\n",
    "4) <b>Class Attributes</b> <br>\n",
    " &nbsp;&nbsp;&nbsp;&nbsp; a) Initializing Attributes <br>\n",
    " &nbsp;&nbsp;&nbsp;&nbsp; b) Setting an Attribute Outside of the \\__init\\__() Method <br>\n",
    " &nbsp;&nbsp;&nbsp;&nbsp; c) Setting Defaults for Attributes <br>\n",
    " &nbsp;&nbsp;&nbsp;&nbsp; d) Accessing Class Attributes <br>\n",
    " &nbsp;&nbsp;&nbsp;&nbsp; e) Changing Class Attributes <br>\n",
    " &nbsp;&nbsp;&nbsp;&nbsp; f) In-Class Exercise #2 - Add a color and wheels attribute to your 'Car' class <br>\n",
    "5) <b>Class Methods</b> <br>\n",
    " &nbsp;&nbsp;&nbsp;&nbsp; a) Creating <br>\n",
    " &nbsp;&nbsp;&nbsp;&nbsp; b) Calling <br>\n",
    " &nbsp;&nbsp;&nbsp;&nbsp; c) Modifying an Attribute's Value Through a Method <br>\n",
    " &nbsp;&nbsp;&nbsp;&nbsp; d) Incrementing an Attribute's Value Through a Method <br>\n",
    " &nbsp;&nbsp;&nbsp;&nbsp; e) In-Class Exercise #3 - Add a method that prints the cars color and wheel number, then call them <br>\n",
    "6) <b>Inheritance</b> <br>\n",
    " &nbsp;&nbsp;&nbsp;&nbsp; a) Syntax for Inheriting from a Parent Class <br>\n",
    " &nbsp;&nbsp;&nbsp;&nbsp; b) The \\__init\\__() Method for a Child Class (super()) <br>\n",
    " &nbsp;&nbsp;&nbsp;&nbsp; c) Defining Attributes and Methods for the Child Class <br>\n",
    " &nbsp;&nbsp;&nbsp;&nbsp; d) Method Overriding <br>\n",
    " &nbsp;&nbsp;&nbsp;&nbsp; e) In-Class Exercise #4 - Create a class 'Ford' that inherits from 'Car' class and initialize it as a Blue Ford Explorer with 4 wheels using the super() method <br>\n",
    "7) <b>Classes as Attributes</b> <br>\n",
    "8) <b>Exercises</b> <br>\n",
    " &nbsp;&nbsp;&nbsp;&nbsp; a) Exercise #1 - Turn the shopping cart program from yesterday into an object-oriented program <br>"
   ]
  },
  {
   "cell_type": "markdown",
   "metadata": {},
   "source": [
    "## Creating a Class (Initializing/Declaring)\n",
    "<p>When creating a class, function, or even a variable you are initializing that object. Initializing and Declaring occur at the same time in Python, whereas in lower level languages you have to declare an object before initializing it. This is the first step in the process of using a class.</p>"
   ]
  },
  {
   "cell_type": "code",
   "execution_count": null,
   "metadata": {},
   "outputs": [],
   "source": [
    "class Car():\n",
    "    wheels = 4\n",
    "    color = 'blue'"
   ]
  },
  {
   "cell_type": "markdown",
   "metadata": {},
   "source": [
    "## Using a Class (Instantiating)\n",
    "<p>The process of creating a class is called <i>Instantiating</i>. Each time you create a variable of that type of class, it is referred to as an <i>Instance</i> of that class. This is the second step in the process of using a class.</p>"
   ]
  },
  {
   "cell_type": "markdown",
   "metadata": {},
   "source": [
    "##### Creating One Instance"
   ]
  },
  {
   "cell_type": "code",
   "execution_count": null,
   "metadata": {},
   "outputs": [],
   "source": [
    "ford = Car()\n",
    "\n",
    "ford.wheels\n",
    "ford.color"
   ]
  },
  {
   "cell_type": "markdown",
   "metadata": {},
   "source": [
    "##### Creating Multiple Instances"
   ]
  },
  {
   "cell_type": "code",
   "execution_count": null,
   "metadata": {},
   "outputs": [],
   "source": [
    "nissan = Car()\n",
    "chevy = Car()"
   ]
  },
  {
   "cell_type": "markdown",
   "metadata": {},
   "source": [
    "##### In-Class Exercise #1 - Create a Class 'Car' and Instantiate three different makes of cars"
   ]
  },
  {
   "cell_type": "code",
   "execution_count": null,
   "metadata": {},
   "outputs": [],
   "source": [
    "class Car():\n",
    "    wheels = 4\n",
    "    color = 'black'\n",
    "\n",
    "ford = Car()\n",
    "honda = Car()\n",
    "audi = Car()\n",
    "\n",
    "ford.wheels\n",
    "honda.color"
   ]
  },
  {
   "cell_type": "markdown",
   "metadata": {},
   "source": [
    "## The \\__init\\__() Method <br>\n",
    "<p>This method is used in almost every created class, and called only once upon the creation of the class instance. This method will initialize all variables needed for the object.</p>"
   ]
  },
  {
   "cell_type": "code",
   "execution_count": null,
   "metadata": {},
   "outputs": [],
   "source": [
    "class Car():\n",
    "    # sometimes you will see class attributes\n",
    "    wheels = 4\n",
    "    def __init__(self, make, model, color): #instance attributes, can make an attribute default\n",
    "        self.make = make\n",
    "        self.model = model\n",
    "        self.color = color\n",
    "\n",
    "# with car example above, self is ford, honda, audi\n",
    "\n",
    "nissan = Car('nissan', '370z', 'black')\n",
    "nissan.color\n",
    "ford = Car('ford', 'mustang', 'red')\n",
    "ford.make\n"
   ]
  },
  {
   "cell_type": "markdown",
   "metadata": {},
   "source": [
    "##### The 'self' Attribute <br>\n",
    "<p>This attribute is required to keep track of specific instance's attributes. Without the self attribute, the program would not know how to reference or keep track of an instance's attributes.</p>"
   ]
  },
  {
   "cell_type": "code",
   "execution_count": null,
   "metadata": {},
   "outputs": [],
   "source": [
    "# see above"
   ]
  },
  {
   "cell_type": "markdown",
   "metadata": {},
   "source": [
    "## Class Attributes <br>\n",
    "<p>While variables are inside of a class, they are referred to as attributes and not variables. When someone says 'attribute' you know they're speaking about a class. Attributes can be initialized through the init method, or outside of it.</p>"
   ]
  },
  {
   "cell_type": "markdown",
   "metadata": {},
   "source": [
    "##### Initializing Attributes"
   ]
  },
  {
   "cell_type": "code",
   "execution_count": null,
   "metadata": {},
   "outputs": [],
   "source": [
    "# see above"
   ]
  },
  {
   "cell_type": "markdown",
   "metadata": {},
   "source": [
    "##### Accessing Class Attributes"
   ]
  },
  {
   "cell_type": "code",
   "execution_count": null,
   "metadata": {
    "scrolled": true
   },
   "outputs": [],
   "source": [
    "# See Above"
   ]
  },
  {
   "cell_type": "markdown",
   "metadata": {},
   "source": [
    "##### Setting Defaults for Attributes"
   ]
  },
  {
   "cell_type": "code",
   "execution_count": null,
   "metadata": {},
   "outputs": [],
   "source": [
    "class Nflteams():\n",
    "    def __init__(self, city, team_name, jersey_color, sport = 'football'):\n",
    "        self.city = city\n",
    "        self.jerser_color = jersey_color\n",
    "        self.team_name = team_name\n",
    "        self.sport = sport\n",
    "\n",
    "    #whenever you have a method in a class, you always have to put self as a parameter\n",
    "    def printInfo(self):\n",
    "        return f'The city {self.city} has the NFL team {self.team_name} and their jersey color is {self.jerser_color}'\n",
    "\n",
    "eagles = Nflteams('Philly', 'Eagles', 'Green')\n",
    "eagles.printInfo()\n",
    "# to get the info as a dictionary\n",
    "eagles.__dict__"
   ]
  },
  {
   "attachments": {},
   "cell_type": "markdown",
   "metadata": {},
   "source": [
    "##### Changing Instance Attributes <br>\n",
    "<p>Keep in mind there are global class attributes and then there are attributes only available to each class instance which won't effect other classes.</p>"
   ]
  },
  {
   "cell_type": "code",
   "execution_count": null,
   "metadata": {},
   "outputs": [],
   "source": [
    "class Gensler():\n",
    "    def __init__(self, name, studio, position, city = 'DC'):\n",
    "        self.name = name\n",
    "        self.studio = studio\n",
    "        self.position = position\n",
    "        self.city = city\n",
    "    \n",
    "    def print_info(self):\n",
    "        return f'{self.name} is a {self.position} in the {self.studio} in Gensler {self.city}.'\n",
    "\n",
    "cameron = Gensler('Cameron', 'Work 2', 'Technical Designer')\n",
    "cameron.print_info()\n"
   ]
  },
  {
   "cell_type": "markdown",
   "metadata": {},
   "source": [
    "##### In-Class Exercise #2 - Add a doors and seats attribute to your 'Car' class then print out two different instances with different doors and seats"
   ]
  },
  {
   "cell_type": "code",
   "execution_count": null,
   "metadata": {},
   "outputs": [],
   "source": [
    "class Car():\n",
    "    def __init__(self, make, model, doors, seats):\n",
    "        self.make = make\n",
    "        self.model = model\n",
    "        self.doors = doors\n",
    "        self.seats = seats\n",
    "\n",
    "    def printInfo(self):\n",
    "        return f'This is a {self.make} {self.model} with {self.doors} doors and {self.seats} seats'\n",
    "\n",
    "honda = Car('honda', 'civic', 'four', 'five' )\n",
    "honda.printInfo()"
   ]
  },
  {
   "cell_type": "markdown",
   "metadata": {},
   "source": [
    "## Class Methods <br>\n",
    "<p>While inside of a class, functions are referred to as 'methods'. If you hear someone mention methods, they're speaking about classes. Methods are essentially functions, but only callable on the instances of a class.</p>"
   ]
  },
  {
   "cell_type": "markdown",
   "metadata": {},
   "source": [
    "##### Creating"
   ]
  },
  {
   "cell_type": "code",
   "execution_count": null,
   "metadata": {},
   "outputs": [],
   "source": [
    "### Good for homework!!!! ###\n",
    "\n",
    "class Roster():\n",
    "    def __init__(self, city, team_name, country = 'US'):\n",
    "        self.city = city\n",
    "        self.team_name = team_name\n",
    "        self.country = country\n",
    "        # additional attributes that we don't need to put within the argument\n",
    "        self.depth_chart = {}\n",
    "        self.number_of_players = 0\n",
    "\n",
    "    # creating different functions to do different things\n",
    "    # add player\n",
    "    def addPlayer(self):\n",
    "        name = input(\"What is the player's name that you want to add?\")\n",
    "        number = int(input(f'What jersey # will {name} have?'))\n",
    "        self.depth_chart[name] = number\n",
    "        self.number_of_players += 1\n",
    "        print(f'{name} has been added to the {self.city} {self.team_name}!')\n",
    "        print(f'Your current roster is {self.depth_chart}')\n",
    "    # del player\n",
    "    def delPlayer(self):\n",
    "        name = input('Who do you want to take out the roster?')\n",
    "        if name in self.depth_chart:\n",
    "            print(f'{name} has been removed from team')\n",
    "            del self.depth_chart[name]\n",
    "            self.number_of_players -= 1\n",
    "            print(f'Your current roster is {self.depth_chart}')\n",
    "        else:\n",
    "            return f'{name} is not in the roster'\n",
    "    # show player\n",
    "    def showPlayers(self):\n",
    "        print(f'You currently have {self.number_of_players} of players on your team')\n",
    "        print(f'---------- Current Roster for the {self.city} {self.team_name} ---------')\n",
    "        for key, value in self.depth_chart.items():\n",
    "            print(key, value)\n",
    "        \n",
    "    def runner(self):\n",
    "        while True:\n",
    "            user_choice = input('What would you like to do? (add, show, delete) (type \"q\" to quit)').lower()\n",
    "            if user_choice == 'q':\n",
    "                self.showPlayers()\n",
    "                print('Good Luck this season')\n",
    "                break\n",
    "            elif user_choice == 'add':\n",
    "                self.addPlayer()\n",
    "            elif user_choice == 'show':\n",
    "                self.showPlayers()\n",
    "            elif user_choice == 'delete':\n",
    "                self.delPlayer()\n",
    "            else:\n",
    "                print('Invalid option, please choose a valid option.')\n",
    "\n",
    "\n",
    "team1 = Roster('LA', 'Lakers')\n",
    "#instead of calling each function to do something, you can create a runner function\n",
    "# team1.addPlayer()\n",
    "# team1.addPlayer()\n",
    "# team1.addPlayer()\n",
    "# team1.delPlayer()\n",
    "# team1.showPlayers()\n",
    "team1.runner()"
   ]
  },
  {
   "cell_type": "markdown",
   "metadata": {},
   "source": [
    "##### Calling"
   ]
  },
  {
   "cell_type": "code",
   "execution_count": null,
   "metadata": {},
   "outputs": [],
   "source": [
    "# See Above"
   ]
  },
  {
   "cell_type": "markdown",
   "metadata": {},
   "source": [
    "##### Modifying an Attribute's Value Through a Method"
   ]
  },
  {
   "cell_type": "code",
   "execution_count": null,
   "metadata": {},
   "outputs": [],
   "source": [
    "# see above\n",
    "# modifying the self.depth_chart attribute"
   ]
  },
  {
   "cell_type": "markdown",
   "metadata": {},
   "source": [
    "##### Incrementing an Attribute's Value Through a Method"
   ]
  },
  {
   "cell_type": "code",
   "execution_count": null,
   "metadata": {},
   "outputs": [],
   "source": [
    "# see above\n",
    "# incrementing the self.number_of_players attribute"
   ]
  },
  {
   "cell_type": "markdown",
   "metadata": {},
   "source": [
    "## Inheritance <br>\n",
    "<p>You can create a child-parent relationship between two classes by using inheritance. What this allows you to do is have overriding methods, but also inherit traits from the parent class. Think of it as an actual parent and child, the child will inherit the parent's genes, as will the classes in OOP</p>"
   ]
  },
  {
   "cell_type": "markdown",
   "metadata": {},
   "source": [
    "##### Syntax for Inheriting from a Parent Class"
   ]
  },
  {
   "cell_type": "code",
   "execution_count": null,
   "metadata": {},
   "outputs": [],
   "source": [
    "class Animal(): # parent class\n",
    "    def __init__(self, name, species, legs = 4):\n",
    "        self.name = name\n",
    "        self.species = species\n",
    "        self.legs = legs\n",
    "\n",
    "    def printInfo(self):\n",
    "        return 'This is coming from the parent class'\n",
    "\n",
    "class Dog(Animal):\n",
    "    def __init__(self, name, dog_type, size, legs=4):\n",
    "        #don't have to type 'self.name = name...etc'\n",
    "        # can type 'Animal.__init__()' instead of super\n",
    "        super().__init__(name, legs)\n",
    "        self.dog_type = dog_type\n",
    "        self.size = size\n",
    "\n",
    "    def printInfoChild(self):\n",
    "        return f'This is a {self.size} size {self.dog_type} with {self.legs} legs and its name is {self.name}'\n",
    "\n",
    "dylans_dog = Dog('Rhiannon', 'blue-nose pittbull', 'big')\n",
    "dylans_dog.printInfo()\n",
    "dylans_dog.printInfoChild()"
   ]
  },
  {
   "cell_type": "markdown",
   "metadata": {},
   "source": [
    "##### The \\__init\\__() Method for a Child Class - super()"
   ]
  },
  {
   "cell_type": "code",
   "execution_count": null,
   "metadata": {
    "scrolled": true
   },
   "outputs": [],
   "source": [
    "# see above"
   ]
  },
  {
   "cell_type": "markdown",
   "metadata": {},
   "source": [
    "##### Defining Attributes and Methods for the Child Class"
   ]
  },
  {
   "cell_type": "code",
   "execution_count": null,
   "metadata": {},
   "outputs": [],
   "source": [
    "# See Above"
   ]
  },
  {
   "cell_type": "markdown",
   "metadata": {},
   "source": [
    "## Classes as Attributes <br>\n",
    "<p>Classes can also be used as attributes within another class. This is useful in situations where you need to keep variables locally stored, instead of globally stored.</p>"
   ]
  },
  {
   "cell_type": "code",
   "execution_count": null,
   "metadata": {},
   "outputs": [],
   "source": [
    "class Engine(): # parent class\n",
    "    def __init__(self, engine):\n",
    "        self.engine = engine\n",
    "    \n",
    "class Car(Engine):\n",
    "    def __init__(self, engine, make, model, year):\n",
    "        super().__init__(engine)\n",
    "        self.make = make\n",
    "        self.model = model\n",
    "        self.year = year\n",
    "    \n",
    "    def printInfo(self):\n",
    "        return f'This is a {self.year} {self.make} {self.model}'\n",
    "\n",
    "v8_engine = Engine('V8')\n",
    "v6_engine = Engine('V6')\n",
    "\n",
    "# print(v6_engine)\n",
    "# print(v6_engine.engine)\n",
    "masons_car = Car(v6_engine.engine, 'toyota', 'tacoma', 2023)\n",
    "kaylas_car = Car(v6_engine.engine, 'nissan', 'frontier', 2023)\n",
    "dylans_car = Car(v8_engine.engine, 'ford', 'bronco', 1965)\n",
    "\n",
    "masons_car.printInfo()\n",
    "masons_car.engine"
   ]
  },
  {
   "cell_type": "markdown",
   "metadata": {},
   "source": [
    "# Exercises"
   ]
  },
  {
   "cell_type": "markdown",
   "metadata": {},
   "source": [
    "### Exercise 1 - Turn the shopping cart program from yesterday into an object-oriented program\n",
    "\n",
    "The comments in the cell below are there as a guide for thinking about the problem. However, if you feel a different way is best for you and your own thought process, please do what feels best for you by all means."
   ]
  },
  {
   "cell_type": "code",
   "execution_count": null,
   "metadata": {},
   "outputs": [],
   "source": [
    "# Create a class called cart that retains items and has methods to add, remove, and show\n",
    "\n",
    "class Cart():\n",
    "    def __init__(self, name, store):\n",
    "        self.name = name\n",
    "        self.store = store\n",
    "        self.cart = {}\n",
    "    \n",
    "    #-----Function to add to cart-----\n",
    "    def add_item(self):\n",
    "        item = input('What will you add to your cart?')\n",
    "        quant = input('How much/many do you want?')\n",
    "        self.cart[item] = quant\n",
    "        print(f'{quant} {item}(s) have been added to your cart')\n",
    "\n",
    "    #-----Function to delete from cart-----\n",
    "    def del_items(self):\n",
    "        item = input('What will you remove from your cart?')\n",
    "        if item in self.cart:\n",
    "            print(f'{item} has been removed from cart')\n",
    "            del self.cart[item]\n",
    "            print(f'You currently have {self.cart} in your cart')\n",
    "        else:\n",
    "            return f'{item} is currently not in your cart'\n",
    "\n",
    "    #-----Function to show cart items-----\n",
    "    def show_cart(self):\n",
    "        print(f\"----------{self.name}'s cart at {self.store}---------\")\n",
    "        for key, value in self.cart.items():\n",
    "            print(key, value)\n",
    "            \n",
    "    #-----Runner Function-----\n",
    "    def runner(self):\n",
    "        while True:\n",
    "            choice = input(\"What would you like to do? (add, show, or delete) (type 'q' to quit)\").lower()\n",
    "            if choice == 'q':\n",
    "                self.show_cart()\n",
    "                break\n",
    "            elif choice == 'add':\n",
    "                self.add_item()\n",
    "            elif choice == 'delete':\n",
    "                self.del_items()\n",
    "            elif choice == 'show':\n",
    "                self.show_cart()\n",
    "            else:\n",
    "                print('Invalid option, please try again')\n",
    "\n",
    "\n",
    "my_cart = Cart('Cameron', 'Trader Joes')\n",
    "my_cart.runner()"
   ]
  },
  {
   "cell_type": "markdown",
   "metadata": {},
   "source": [
    "### Exercise 2 - Write a Python class which has two methods get_String and print_String. get_String accept a string from the user and print_String print the string in upper case"
   ]
  },
  {
   "cell_type": "code",
   "execution_count": null,
   "metadata": {},
   "outputs": [],
   "source": [
    "class String():\n",
    "    def __init__(self, name):\n",
    "        self.name = name\n",
    "    \n",
    "    #---function to accept string from user---\n",
    "    def get_String(self):\n",
    "        string = input('Type something:')\n",
    "\n",
    "    #---function to print string in uppercase---\n",
    "    def print_String(self, string):\n",
    "        print(str(string).upper())\n",
    "\n",
    "cameron = String('Cameron')\n",
    "cameron.print_String('something')"
   ]
  }
 ],
 "metadata": {
  "kernelspec": {
   "display_name": "Python 3",
   "language": "python",
   "name": "python3"
  },
  "language_info": {
   "codemirror_mode": {
    "name": "ipython",
    "version": 3
   },
   "file_extension": ".py",
   "mimetype": "text/x-python",
   "name": "python",
   "nbconvert_exporter": "python",
   "pygments_lexer": "ipython3",
   "version": "3.10.9"
  },
  "vscode": {
   "interpreter": {
    "hash": "b90313491b8fcf5277c814ee9f8b8bef470f56b3ea82ad801adfe9786958121d"
   }
  }
 },
 "nbformat": 4,
 "nbformat_minor": 2
}
